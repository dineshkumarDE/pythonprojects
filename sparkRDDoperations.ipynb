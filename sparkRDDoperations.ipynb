{
  "nbformat": 4,
  "nbformat_minor": 0,
  "metadata": {
    "colab": {
      "provenance": [],
      "authorship_tag": "ABX9TyOpVHUblvL/Px97GXI6yqBi",
      "include_colab_link": true
    },
    "kernelspec": {
      "name": "python3",
      "display_name": "Python 3"
    },
    "language_info": {
      "name": "python"
    }
  },
  "cells": [
    {
      "cell_type": "markdown",
      "metadata": {
        "id": "view-in-github",
        "colab_type": "text"
      },
      "source": [
        "<a href=\"https://colab.research.google.com/github/dineshkumarDE/pythonprojects/blob/main/sparkRDDoperations.ipynb\" target=\"_parent\"><img src=\"https://colab.research.google.com/assets/colab-badge.svg\" alt=\"Open In Colab\"/></a>"
      ]
    },
    {
      "cell_type": "code",
      "source": [
        "from pyspark.sql import SparkSession\n",
        "\n",
        "spark =SparkSession.builder.appName(\"RDD operations\").getOrCreate()"
      ],
      "metadata": {
        "id": "3uQaZVK8sGuS"
      },
      "execution_count": 71,
      "outputs": []
    },
    {
      "cell_type": "code",
      "source": [
        "# prompt: create a variable data containing 10 records with columns customer id ,customer name,city,state,order date,active - indian data with duplicate for two records,have aheader with column names and for now all columns will be inside a single string comma separated and active field is True or False\n",
        "\n",
        "data = [\"customer_id,customer_name,city,state,order_date,active\",\n",
        "    \"1,Amit Kumar,Delhi,Delhi,2023-10-26,True\",\n",
        "    \"2,Priya Sharma,Mumbai,Maharashtra,2023-10-27,False\",\n",
        "    \"3,Rahul Verma,Bangalore,Karnataka,2023-10-28,True\",\n",
        "    \"4,Neha Singh,Chennai,Tamil Nadu,2023-10-29,True\",\n",
        "    \"5,Vikram Patel,Hyderabad,Telangana,2023-10-30,False\",\n",
        "    \"6,Anjali Gupta,Kolkata,West Bengal,2023-10-31,True\",\n",
        "    \"7,Rajesh Yadav,Pune,Maharashtra,2023-11-01,False\",\n",
        "    \"2,Priya Sharma,Mumbai,Maharashtra,2023-10-27,False\", # Duplicate\n",
        "    \"8,Deepika Reddy,Ahmedabad,Gujarat,2023-11-02,True\",\n",
        "    \"3,Rahul Verma,Bangalore,Karnataka,2023-10-28,True\" # Duplicate\n",
        "]\n",
        "rdd=spark.sparkContext.parallelize(data)\n",
        "rdd.collect()"
      ],
      "metadata": {
        "colab": {
          "base_uri": "https://localhost:8080/"
        },
        "id": "SmccL5o2s97o",
        "outputId": "cff9a44e-990b-4bce-ca6d-832daf1e03e6"
      },
      "execution_count": 72,
      "outputs": [
        {
          "output_type": "execute_result",
          "data": {
            "text/plain": [
              "['customer_id,customer_name,city,state,order_date,active',\n",
              " '1,Amit Kumar,Delhi,Delhi,2023-10-26,True',\n",
              " '2,Priya Sharma,Mumbai,Maharashtra,2023-10-27,False',\n",
              " '3,Rahul Verma,Bangalore,Karnataka,2023-10-28,True',\n",
              " '4,Neha Singh,Chennai,Tamil Nadu,2023-10-29,True',\n",
              " '5,Vikram Patel,Hyderabad,Telangana,2023-10-30,False',\n",
              " '6,Anjali Gupta,Kolkata,West Bengal,2023-10-31,True',\n",
              " '7,Rajesh Yadav,Pune,Maharashtra,2023-11-01,False',\n",
              " '2,Priya Sharma,Mumbai,Maharashtra,2023-10-27,False',\n",
              " '8,Deepika Reddy,Ahmedabad,Gujarat,2023-11-02,True',\n",
              " '3,Rahul Verma,Bangalore,Karnataka,2023-10-28,True']"
            ]
          },
          "metadata": {},
          "execution_count": 72
        }
      ]
    },
    {
      "cell_type": "code",
      "source": [
        "rdd.collect()\n",
        "rdd.getNumPartitions()\n",
        "\n"
      ],
      "metadata": {
        "colab": {
          "base_uri": "https://localhost:8080/"
        },
        "id": "7bK24y6ftpg3",
        "outputId": "48307cbf-e749-4663-b8e3-22772d3ba45d"
      },
      "execution_count": 73,
      "outputs": [
        {
          "output_type": "execute_result",
          "data": {
            "text/plain": [
              "2"
            ]
          },
          "metadata": {},
          "execution_count": 73
        }
      ]
    },
    {
      "cell_type": "code",
      "source": [
        "spark.sparkContext.defaultParallelism"
      ],
      "metadata": {
        "colab": {
          "base_uri": "https://localhost:8080/"
        },
        "id": "VugEDA-UxNe8",
        "outputId": "4730d5bd-35a9-40e9-f72b-f3dd70744afe"
      },
      "execution_count": 74,
      "outputs": [
        {
          "output_type": "execute_result",
          "data": {
            "text/plain": [
              "2"
            ]
          },
          "metadata": {},
          "execution_count": 74
        }
      ]
    },
    {
      "cell_type": "code",
      "source": [
        "spark.sparkContext.defaultMinPartitions"
      ],
      "metadata": {
        "colab": {
          "base_uri": "https://localhost:8080/"
        },
        "id": "RsORqEk8xQAO",
        "outputId": "87f831af-9bab-4a8a-da5d-d1af552cd890"
      },
      "execution_count": 75,
      "outputs": [
        {
          "output_type": "execute_result",
          "data": {
            "text/plain": [
              "2"
            ]
          },
          "metadata": {},
          "execution_count": 75
        }
      ]
    },
    {
      "cell_type": "markdown",
      "source": [
        "filter header"
      ],
      "metadata": {
        "id": "Us76kQ_5ybjk"
      }
    },
    {
      "cell_type": "code",
      "source": [
        "header = rdd.first()\n",
        "header"
      ],
      "metadata": {
        "colab": {
          "base_uri": "https://localhost:8080/",
          "height": 36
        },
        "id": "r6D65jvSumPd",
        "outputId": "7b9e6d2b-3349-42fc-fdc5-e381b27dd784"
      },
      "execution_count": 76,
      "outputs": [
        {
          "output_type": "execute_result",
          "data": {
            "text/plain": [
              "'customer_id,customer_name,city,state,order_date,active'"
            ],
            "application/vnd.google.colaboratory.intrinsic+json": {
              "type": "string"
            }
          },
          "metadata": {},
          "execution_count": 76
        }
      ]
    },
    {
      "cell_type": "code",
      "source": [
        "data_rdd=rdd.filter(lambda row:row!=header)\n",
        "data_rdd.collect()"
      ],
      "metadata": {
        "colab": {
          "base_uri": "https://localhost:8080/"
        },
        "id": "BRoZWxQ6xXsO",
        "outputId": "de9cb1e9-06e7-4159-b8cd-aa81172da57c"
      },
      "execution_count": 77,
      "outputs": [
        {
          "output_type": "execute_result",
          "data": {
            "text/plain": [
              "['1,Amit Kumar,Delhi,Delhi,2023-10-26,True',\n",
              " '2,Priya Sharma,Mumbai,Maharashtra,2023-10-27,False',\n",
              " '3,Rahul Verma,Bangalore,Karnataka,2023-10-28,True',\n",
              " '4,Neha Singh,Chennai,Tamil Nadu,2023-10-29,True',\n",
              " '5,Vikram Patel,Hyderabad,Telangana,2023-10-30,False',\n",
              " '6,Anjali Gupta,Kolkata,West Bengal,2023-10-31,True',\n",
              " '7,Rajesh Yadav,Pune,Maharashtra,2023-11-01,False',\n",
              " '2,Priya Sharma,Mumbai,Maharashtra,2023-10-27,False',\n",
              " '8,Deepika Reddy,Ahmedabad,Gujarat,2023-11-02,True',\n",
              " '3,Rahul Verma,Bangalore,Karnataka,2023-10-28,True']"
            ]
          },
          "metadata": {},
          "execution_count": 77
        }
      ]
    },
    {
      "cell_type": "markdown",
      "source": [
        "use map to split the columns and make first column as integer datatype and last as boolean\n"
      ],
      "metadata": {
        "id": "ua6u0iq7yfo5"
      }
    },
    {
      "cell_type": "code",
      "source": [
        "def parsed_row(row):\n",
        "  fields=row.split(\",\")\n",
        "  return(\n",
        "      int(fields[0]),\n",
        "      fields[1],\n",
        "      fields[2],\n",
        "      fields[3],\n",
        "      fields[4],\n",
        "      fields[5]==\"True\"\n",
        "  )"
      ],
      "metadata": {
        "id": "Q8rVb0FMy3-N"
      },
      "execution_count": 78,
      "outputs": []
    },
    {
      "cell_type": "code",
      "source": [
        "parsed_data_rdd = data_rdd.map(parsed_row)"
      ],
      "metadata": {
        "id": "yrMwf_hLyuPX"
      },
      "execution_count": 79,
      "outputs": []
    },
    {
      "cell_type": "code",
      "source": [
        "parsed_data_rdd.collect()"
      ],
      "metadata": {
        "colab": {
          "base_uri": "https://localhost:8080/"
        },
        "id": "7Fc0kJcZzpfK",
        "outputId": "9e34c558-021e-4ba4-92b8-5a675497bb8e"
      },
      "execution_count": 80,
      "outputs": [
        {
          "output_type": "execute_result",
          "data": {
            "text/plain": [
              "[(1, 'Amit Kumar', 'Delhi', 'Delhi', '2023-10-26', True),\n",
              " (2, 'Priya Sharma', 'Mumbai', 'Maharashtra', '2023-10-27', False),\n",
              " (3, 'Rahul Verma', 'Bangalore', 'Karnataka', '2023-10-28', True),\n",
              " (4, 'Neha Singh', 'Chennai', 'Tamil Nadu', '2023-10-29', True),\n",
              " (5, 'Vikram Patel', 'Hyderabad', 'Telangana', '2023-10-30', False),\n",
              " (6, 'Anjali Gupta', 'Kolkata', 'West Bengal', '2023-10-31', True),\n",
              " (7, 'Rajesh Yadav', 'Pune', 'Maharashtra', '2023-11-01', False),\n",
              " (2, 'Priya Sharma', 'Mumbai', 'Maharashtra', '2023-10-27', False),\n",
              " (8, 'Deepika Reddy', 'Ahmedabad', 'Gujarat', '2023-11-02', True),\n",
              " (3, 'Rahul Verma', 'Bangalore', 'Karnataka', '2023-10-28', True)]"
            ]
          },
          "metadata": {},
          "execution_count": 80
        }
      ]
    },
    {
      "cell_type": "markdown",
      "source": [
        "Advanced RDD operations\n"
      ],
      "metadata": {
        "id": "k3HHYGItzyH6"
      }
    },
    {
      "cell_type": "code",
      "source": [
        "#extract a field with Map city and name\n",
        "name_city_rdd = parsed_data_rdd.map(lambda row:(row[1],row[2]))\n",
        "name_city_rdd.collect()"
      ],
      "metadata": {
        "colab": {
          "base_uri": "https://localhost:8080/"
        },
        "id": "EbPkUD4Yz1Bo",
        "outputId": "4af13fbb-d59e-4a2d-bf88-e32e893ae974"
      },
      "execution_count": 81,
      "outputs": [
        {
          "output_type": "execute_result",
          "data": {
            "text/plain": [
              "[('Amit Kumar', 'Delhi'),\n",
              " ('Priya Sharma', 'Mumbai'),\n",
              " ('Rahul Verma', 'Bangalore'),\n",
              " ('Neha Singh', 'Chennai'),\n",
              " ('Vikram Patel', 'Hyderabad'),\n",
              " ('Anjali Gupta', 'Kolkata'),\n",
              " ('Rajesh Yadav', 'Pune'),\n",
              " ('Priya Sharma', 'Mumbai'),\n",
              " ('Deepika Reddy', 'Ahmedabad'),\n",
              " ('Rahul Verma', 'Bangalore')]"
            ]
          },
          "metadata": {},
          "execution_count": 81
        }
      ]
    },
    {
      "cell_type": "code",
      "source": [
        "#filter active customers\n",
        "active_customers_rdd=parsed_data_rdd.filter(lambda x:x[5])\n",
        "active_customers_rdd.collect()"
      ],
      "metadata": {
        "colab": {
          "base_uri": "https://localhost:8080/"
        },
        "id": "tFfq5has0jQd",
        "outputId": "e81ae420-1cb5-4a87-ac44-d71705aa8f58"
      },
      "execution_count": 82,
      "outputs": [
        {
          "output_type": "execute_result",
          "data": {
            "text/plain": [
              "[(1, 'Amit Kumar', 'Delhi', 'Delhi', '2023-10-26', True),\n",
              " (3, 'Rahul Verma', 'Bangalore', 'Karnataka', '2023-10-28', True),\n",
              " (4, 'Neha Singh', 'Chennai', 'Tamil Nadu', '2023-10-29', True),\n",
              " (6, 'Anjali Gupta', 'Kolkata', 'West Bengal', '2023-10-31', True),\n",
              " (8, 'Deepika Reddy', 'Ahmedabad', 'Gujarat', '2023-11-02', True),\n",
              " (3, 'Rahul Verma', 'Bangalore', 'Karnataka', '2023-10-28', True)]"
            ]
          },
          "metadata": {},
          "execution_count": 82
        }
      ]
    },
    {
      "cell_type": "code",
      "source": [
        "#distinct cities\n",
        "\n",
        "cities =parsed_data_rdd.map(lambda row:row[2]).distinct()\n",
        "cities.collect()\n"
      ],
      "metadata": {
        "colab": {
          "base_uri": "https://localhost:8080/"
        },
        "id": "xEOES6xi1IoB",
        "outputId": "26d0beb9-bf57-44b8-f8ec-1131d8808e26"
      },
      "execution_count": 83,
      "outputs": [
        {
          "output_type": "execute_result",
          "data": {
            "text/plain": [
              "['Delhi',\n",
              " 'Mumbai',\n",
              " 'Hyderabad',\n",
              " 'Pune',\n",
              " 'Bangalore',\n",
              " 'Chennai',\n",
              " 'Kolkata',\n",
              " 'Ahmedabad']"
            ]
          },
          "metadata": {},
          "execution_count": 83
        }
      ]
    },
    {
      "cell_type": "code",
      "source": [
        "#take\n",
        "parsed_data_rdd.take(1)\n"
      ],
      "metadata": {
        "colab": {
          "base_uri": "https://localhost:8080/"
        },
        "id": "lXLjxEtP1gLS",
        "outputId": "fb76ff3f-dc3b-482f-e6c2-931c1d1e6f72"
      },
      "execution_count": 84,
      "outputs": [
        {
          "output_type": "execute_result",
          "data": {
            "text/plain": [
              "[(1, 'Amit Kumar', 'Delhi', 'Delhi', '2023-10-26', True)]"
            ]
          },
          "metadata": {},
          "execution_count": 84
        }
      ]
    },
    {
      "cell_type": "code",
      "source": [
        "#reduce by key - transformation\n",
        "combined_rdd = parsed_data_rdd.map(lambda row:(row[2],1)).reduceByKey(lambda x,y:x+y)\n",
        "combined_rdd.collect()"
      ],
      "metadata": {
        "colab": {
          "base_uri": "https://localhost:8080/"
        },
        "id": "Rp-hQCdU1zRG",
        "outputId": "95684ba1-632d-43bb-b309-f01c0f9d39cb"
      },
      "execution_count": 85,
      "outputs": [
        {
          "output_type": "execute_result",
          "data": {
            "text/plain": [
              "[('Delhi', 1),\n",
              " ('Mumbai', 2),\n",
              " ('Hyderabad', 1),\n",
              " ('Pune', 1),\n",
              " ('Bangalore', 2),\n",
              " ('Chennai', 1),\n",
              " ('Kolkata', 1),\n",
              " ('Ahmedabad', 1)]"
            ]
          },
          "metadata": {},
          "execution_count": 85
        }
      ]
    },
    {
      "cell_type": "code",
      "source": [
        "#countbyvalue\n",
        "combined_count = parsed_data_rdd.map(lambda row:row[2]).countByValue()\n",
        "combined_count"
      ],
      "metadata": {
        "colab": {
          "base_uri": "https://localhost:8080/"
        },
        "id": "TM_h4dS3224a",
        "outputId": "ea540d69-561b-427e-9af6-a265bd8ef789"
      },
      "execution_count": 86,
      "outputs": [
        {
          "output_type": "execute_result",
          "data": {
            "text/plain": [
              "defaultdict(int,\n",
              "            {'Delhi': 1,\n",
              "             'Mumbai': 2,\n",
              "             'Bangalore': 2,\n",
              "             'Chennai': 1,\n",
              "             'Hyderabad': 1,\n",
              "             'Kolkata': 1,\n",
              "             'Pune': 1,\n",
              "             'Ahmedabad': 1})"
            ]
          },
          "metadata": {},
          "execution_count": 86
        }
      ]
    },
    {
      "cell_type": "code",
      "source": [
        "#cities with active customers\n",
        "\n",
        "active_customers_city_rdd = parsed_data_rdd.filter(lambda row:row[5]).map(lambda row :row[2]).distinct()\n",
        "active_customers_city_rdd.collect()"
      ],
      "metadata": {
        "colab": {
          "base_uri": "https://localhost:8080/"
        },
        "id": "X-QuEr0y3oAc",
        "outputId": "984b5938-93a9-4421-ee08-d19be80040d5"
      },
      "execution_count": 87,
      "outputs": [
        {
          "output_type": "execute_result",
          "data": {
            "text/plain": [
              "['Delhi', 'Bangalore', 'Chennai', 'Kolkata', 'Ahmedabad']"
            ]
          },
          "metadata": {},
          "execution_count": 87
        }
      ]
    },
    {
      "cell_type": "code",
      "source": [
        "#count active costumers per state\n",
        "parsed_data_rdd.filter(lambda row:row[5]).map(lambda row:row[3]).countByValue()"
      ],
      "metadata": {
        "colab": {
          "base_uri": "https://localhost:8080/"
        },
        "id": "8MFS2shG4B9E",
        "outputId": "2d0ed72d-cc23-4715-a694-60552879ae08"
      },
      "execution_count": 88,
      "outputs": [
        {
          "output_type": "execute_result",
          "data": {
            "text/plain": [
              "defaultdict(int,\n",
              "            {'Delhi': 1,\n",
              "             'Karnataka': 2,\n",
              "             'Tamil Nadu': 1,\n",
              "             'West Bengal': 1,\n",
              "             'Gujarat': 1})"
            ]
          },
          "metadata": {},
          "execution_count": 88
        }
      ]
    },
    {
      "cell_type": "code",
      "source": [
        "spark.stop()"
      ],
      "metadata": {
        "id": "hB_ZKK454w8W"
      },
      "execution_count": 89,
      "outputs": []
    }
  ]
}